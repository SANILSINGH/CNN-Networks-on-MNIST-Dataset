{
 "cells": [
  {
   "cell_type": "code",
   "execution_count": 1,
   "metadata": {
    "colab": {
     "base_uri": "https://localhost:8080/",
     "height": 71
    },
    "colab_type": "code",
    "id": "H9EU0e8yzFOm",
    "outputId": "160bc8ea-7240-4d9a-847b-2ab64daf12fa"
   },
   "outputs": [
    {
     "name": "stderr",
     "output_type": "stream",
     "text": [
      "Using TensorFlow backend.\n"
     ]
    },
    {
     "name": "stdout",
     "output_type": "stream",
     "text": [
      "Downloading data from https://s3.amazonaws.com/img-datasets/mnist.npz\n",
      "11493376/11490434 [==============================] - 0s 0us/step\n"
     ]
    }
   ],
   "source": [
    "# Credits: https://github.com/keras-team/keras/blob/master/examples/mnist_cnn.py\n",
    "\n",
    "\n",
    "# Importing libraries\n",
    "from __future__ import print_function\n",
    "import keras\n",
    "from keras.datasets import mnist\n",
    "from keras.models import Sequential\n",
    "from keras.layers import Dense, Dropout, Flatten\n",
    "from keras.layers import Conv2D, MaxPooling2D\n",
    "from keras import backend as K\n",
    "from keras.initializers import he_normal\n",
    "from keras.layers.normalization import BatchNormalization\n",
    "import numpy as np\n",
    "import matplotlib.pyplot as plt\n",
    "%matplotlib inline\n",
    "\n",
    "batch_size = 128\n",
    "num_classes = 10\n",
    "epochs = 12\n",
    "\n",
    "# input image dimensions\n",
    "img_rows, img_cols = 28, 28\n",
    "\n",
    "# the data, split between train and test sets\n",
    "(x_train, y_train), (x_test, y_test) = mnist.load_data()"
   ]
  },
  {
   "cell_type": "code",
   "execution_count": 2,
   "metadata": {
    "colab": {
     "base_uri": "https://localhost:8080/",
     "height": 71
    },
    "colab_type": "code",
    "id": "ujteZH8H4xhN",
    "outputId": "d006a70b-ffa9-485c-b31e-153a2d5c358b"
   },
   "outputs": [
    {
     "name": "stdout",
     "output_type": "stream",
     "text": [
      "x_train shape: (60000, 28, 28, 1)\n",
      "60000 train samples\n",
      "10000 test samples\n"
     ]
    }
   ],
   "source": [
    "if K.image_data_format() == 'channels_first':\n",
    "    x_train = x_train.reshape(x_train.shape[0], 1, img_rows, img_cols)\n",
    "    x_test = x_test.reshape(x_test.shape[0], 1, img_rows, img_cols)\n",
    "    input_shape = (1, img_rows, img_cols)\n",
    "else:\n",
    "    x_train = x_train.reshape(x_train.shape[0], img_rows, img_cols, 1)\n",
    "    x_test = x_test.reshape(x_test.shape[0], img_rows, img_cols, 1)\n",
    "    input_shape = (img_rows, img_cols, 1)\n",
    "\n",
    "x_train = x_train.astype('float32')\n",
    "x_test = x_test.astype('float32')\n",
    "x_train /= 255\n",
    "x_test /= 255\n",
    "print('x_train shape:', x_train.shape)\n",
    "print(x_train.shape[0], 'train samples')\n",
    "print(x_test.shape[0], 'test samples')\n",
    "\n",
    "# convert class vectors to binary class matrices\n",
    "y_train = keras.utils.to_categorical(y_train, num_classes)\n",
    "y_test = keras.utils.to_categorical(y_test, num_classes)"
   ]
  },
  {
   "cell_type": "code",
   "execution_count": 0,
   "metadata": {
    "colab": {},
    "colab_type": "code",
    "id": "QLyHbzbk46nu"
   },
   "outputs": [],
   "source": [
    "# this function is used draw Categorical Crossentropy Loss VS No. of epochs plot\n",
    "def plt_dynamic(x, vy, ty):\n",
    "  plt.figure(figsize=(10,5))\n",
    "  plt.plot(x, vy, 'b', label=\"Validation Loss\")\n",
    "  plt.plot(x, ty, 'r', label=\"Train Loss\")\n",
    "  plt.xlabel('Epochs') \n",
    "  plt.ylabel('Categorical Crossentropy Loss')\n",
    "  plt.title('\\nError Plot:Categorical Crossentropy Loss VS Epochs')\n",
    "  plt.legend()\n",
    "  plt.grid()\n",
    "  plt.show()"
   ]
  },
  {
   "cell_type": "markdown",
   "metadata": {
    "colab_type": "text",
    "id": "4LAX0Ngs5MBt"
   },
   "source": [
    "\n",
    "<h2>(1). CNN with 3 Convolutional layers and kernel size - (3X3)</h2>"
   ]
  },
  {
   "cell_type": "code",
   "execution_count": 4,
   "metadata": {
    "colab": {
     "base_uri": "https://localhost:8080/",
     "height": 1180
    },
    "colab_type": "code",
    "id": "fYxLQ-WF5JP_",
    "outputId": "30bfe644-5762-49bf-8f9d-6c3a31373a1b",
    "scrolled": false
   },
   "outputs": [
    {
     "name": "stdout",
     "output_type": "stream",
     "text": [
      "WARNING:tensorflow:From /usr/local/lib/python3.6/dist-packages/tensorflow/python/framework/op_def_library.py:263: colocate_with (from tensorflow.python.framework.ops) is deprecated and will be removed in a future version.\n",
      "Instructions for updating:\n",
      "Colocations handled automatically by placer.\n",
      "WARNING:tensorflow:From /usr/local/lib/python3.6/dist-packages/keras/backend/tensorflow_backend.py:3445: calling dropout (from tensorflow.python.ops.nn_ops) with keep_prob is deprecated and will be removed in a future version.\n",
      "Instructions for updating:\n",
      "Please use `rate` instead of `keep_prob`. Rate should be set to `rate = 1 - keep_prob`.\n",
      "_________________________________________________________________\n",
      "Layer (type)                 Output Shape              Param #   \n",
      "=================================================================\n",
      "conv2d_1 (Conv2D)            (None, 26, 26, 32)        320       \n",
      "_________________________________________________________________\n",
      "conv2d_2 (Conv2D)            (None, 24, 24, 64)        18496     \n",
      "_________________________________________________________________\n",
      "max_pooling2d_1 (MaxPooling2 (None, 12, 12, 64)        0         \n",
      "_________________________________________________________________\n",
      "dropout_1 (Dropout)          (None, 12, 12, 64)        0         \n",
      "_________________________________________________________________\n",
      "conv2d_3 (Conv2D)            (None, 10, 10, 128)       73856     \n",
      "_________________________________________________________________\n",
      "max_pooling2d_2 (MaxPooling2 (None, 5, 5, 128)         0         \n",
      "_________________________________________________________________\n",
      "dropout_2 (Dropout)          (None, 5, 5, 128)         0         \n",
      "_________________________________________________________________\n",
      "flatten_1 (Flatten)          (None, 3200)              0         \n",
      "_________________________________________________________________\n",
      "dense_1 (Dense)              (None, 256)               819456    \n",
      "_________________________________________________________________\n",
      "dropout_3 (Dropout)          (None, 256)               0         \n",
      "_________________________________________________________________\n",
      "dense_2 (Dense)              (None, 10)                2570      \n",
      "=================================================================\n",
      "Total params: 914,698\n",
      "Trainable params: 914,698\n",
      "Non-trainable params: 0\n",
      "_________________________________________________________________\n",
      "None\n",
      "WARNING:tensorflow:From /usr/local/lib/python3.6/dist-packages/tensorflow/python/ops/math_ops.py:3066: to_int32 (from tensorflow.python.ops.math_ops) is deprecated and will be removed in a future version.\n",
      "Instructions for updating:\n",
      "Use tf.cast instead.\n",
      "Train on 60000 samples, validate on 10000 samples\n",
      "Epoch 1/12\n",
      "60000/60000 [==============================] - 231s 4ms/step - loss: 0.2158 - acc: 0.9328 - val_loss: 0.0348 - val_acc: 0.9893\n",
      "Epoch 2/12\n",
      "60000/60000 [==============================] - 232s 4ms/step - loss: 0.0680 - acc: 0.9793 - val_loss: 0.0324 - val_acc: 0.9892\n",
      "Epoch 3/12\n",
      "60000/60000 [==============================] - 231s 4ms/step - loss: 0.0493 - acc: 0.9850 - val_loss: 0.0242 - val_acc: 0.9921\n",
      "Epoch 4/12\n",
      "60000/60000 [==============================] - 231s 4ms/step - loss: 0.0422 - acc: 0.9868 - val_loss: 0.0216 - val_acc: 0.9919\n",
      "Epoch 5/12\n",
      "60000/60000 [==============================] - 230s 4ms/step - loss: 0.0341 - acc: 0.9895 - val_loss: 0.0207 - val_acc: 0.9933\n",
      "Epoch 6/12\n",
      "60000/60000 [==============================] - 230s 4ms/step - loss: 0.0312 - acc: 0.9906 - val_loss: 0.0220 - val_acc: 0.9936\n",
      "Epoch 7/12\n",
      "60000/60000 [==============================] - 231s 4ms/step - loss: 0.0279 - acc: 0.9912 - val_loss: 0.0201 - val_acc: 0.9938\n",
      "Epoch 8/12\n",
      "60000/60000 [==============================] - 229s 4ms/step - loss: 0.0244 - acc: 0.9920 - val_loss: 0.0174 - val_acc: 0.9942\n",
      "Epoch 9/12\n",
      "60000/60000 [==============================] - 230s 4ms/step - loss: 0.0230 - acc: 0.9928 - val_loss: 0.0176 - val_acc: 0.9938\n",
      "Epoch 10/12\n",
      "60000/60000 [==============================] - 230s 4ms/step - loss: 0.0227 - acc: 0.9929 - val_loss: 0.0200 - val_acc: 0.9940\n",
      "Epoch 11/12\n",
      "60000/60000 [==============================] - 235s 4ms/step - loss: 0.0191 - acc: 0.9940 - val_loss: 0.0168 - val_acc: 0.9946\n",
      "Epoch 12/12\n",
      "60000/60000 [==============================] - 232s 4ms/step - loss: 0.0181 - acc: 0.9944 - val_loss: 0.0200 - val_acc: 0.9938\n"
     ]
    }
   ],
   "source": [
    "# Initialising the model\n",
    "model_3 = Sequential()\n",
    "\n",
    "# Adding first conv layer\n",
    "model_3.add(Conv2D(32, kernel_size=(3, 3),activation='relu',input_shape=input_shape))\n",
    "\n",
    "# Adding second conv layer\n",
    "model_3.add(Conv2D(64, (3, 3), activation='relu'))\n",
    "\n",
    "# Adding Maxpooling layer\n",
    "model_3.add(MaxPooling2D(pool_size=(2, 2)))\n",
    "\n",
    "# Adding Dropout\n",
    "model_3.add(Dropout(0.25))\n",
    "\n",
    "# Adding third conv layer\n",
    "model_3.add(Conv2D(128, (3, 3), activation='relu'))\n",
    "\n",
    "# Adding Maxpooling layer\n",
    "model_3.add(MaxPooling2D(pool_size=(2, 2)))\n",
    "\n",
    "# Adding Dropout\n",
    "model_3.add(Dropout(0.25))\n",
    "\n",
    "# Adding flatten layer\n",
    "model_3.add(Flatten())\n",
    "\n",
    "# Adding first hidden layer\n",
    "model_3.add(Dense(256, activation='relu',kernel_initializer=he_normal(seed=None)))\n",
    "\n",
    "# Adding Dropout\n",
    "model_3.add(Dropout(0.5))\n",
    "\n",
    "# Adding output layer\n",
    "model_3.add(Dense(num_classes, activation='softmax'))\n",
    "\n",
    "# Printing model Summary\n",
    "print(model_3.summary())\n",
    "\n",
    "# Compiling the model\n",
    "model_3.compile(optimizer='adam', loss='categorical_crossentropy', metrics=['accuracy'])\n",
    "\n",
    "# Fitting the data to the model\n",
    "history_3 = model_3.fit(x_train, y_train,batch_size=batch_size,epochs=epochs,verbose=1,validation_data=(x_test, y_test))"
   ]
  },
  {
   "cell_type": "code",
   "execution_count": 5,
   "metadata": {
    "colab": {
     "base_uri": "https://localhost:8080/",
     "height": 401
    },
    "colab_type": "code",
    "id": "aIN6jBWl5V9v",
    "outputId": "d7f3bee8-7379-4685-91b5-8a6e658645fa"
   },
   "outputs": [
    {
     "name": "stdout",
     "output_type": "stream",
     "text": [
      "Test score: 0.020024736808676606\n",
      "Test accuracy: 0.9938\n"
     ]
    },
    {
     "data": {
      "image/png": "[encoded data removed]",
      "text/plain": [
       "<Figure size 720x360 with 1 Axes>"
      ]
     },
     "metadata": {
      "tags": []
     },
     "output_type": "display_data"
    }
   ],
   "source": [
    "# Evaluating the model\n",
    "score = model_3.evaluate(x_test, y_test, verbose=0) \n",
    "print('Test score:', score[0]) \n",
    "print('Test accuracy:', score[1])\n",
    "\n",
    "# Test and train accuracy of the model\n",
    "model_3_test = score[1]\n",
    "model_3_train = max(history_3.history['acc'])\n",
    "\n",
    "# Plotting Train and Test Loss VS no. of epochs\n",
    "# list of epoch numbers\n",
    "x = list(range(1,epochs+1))\n",
    "\n",
    "# Validation loss\n",
    "vy = history_3.history['val_loss']\n",
    "# Training loss\n",
    "ty = history_3.history['loss']\n",
    "\n",
    "# Calling the function to draw the plot\n",
    "plt_dynamic(x, vy, ty)"
   ]
  },
  {
   "cell_type": "markdown",
   "metadata": {
    "colab_type": "text",
    "id": "-sgvMH435lBN"
   },
   "source": [
    "<h2>(2). CNN with 5 Convolutional layers and kernel sizea - (5X5)</h2>"
   ]
  },
  {
   "cell_type": "code",
   "execution_count": 6,
   "metadata": {
    "colab": {
     "base_uri": "https://localhost:8080/",
     "height": 1178
    },
    "colab_type": "code",
    "id": "vtUioP_45rAS",
    "outputId": "e6ba0b65-372d-41b8-d0a1-318793292fb4"
   },
   "outputs": [
    {
     "name": "stdout",
     "output_type": "stream",
     "text": [
      "_________________________________________________________________\n",
      "Layer (type)                 Output Shape              Param #   \n",
      "=================================================================\n",
      "conv2d_4 (Conv2D)            (None, 28, 28, 8)         208       \n",
      "_________________________________________________________________\n",
      "conv2d_5 (Conv2D)            (None, 24, 24, 16)        3216      \n",
      "_________________________________________________________________\n",
      "max_pooling2d_3 (MaxPooling2 (None, 12, 12, 16)        0         \n",
      "_________________________________________________________________\n",
      "dropout_4 (Dropout)          (None, 12, 12, 16)        0         \n",
      "_________________________________________________________________\n",
      "conv2d_6 (Conv2D)            (None, 12, 12, 32)        12832     \n",
      "_________________________________________________________________\n",
      "max_pooling2d_4 (MaxPooling2 (None, 6, 6, 32)          0         \n",
      "_________________________________________________________________\n",
      "dropout_5 (Dropout)          (None, 6, 6, 32)          0         \n",
      "_________________________________________________________________\n",
      "conv2d_7 (Conv2D)            (None, 6, 6, 64)          51264     \n",
      "_________________________________________________________________\n",
      "conv2d_8 (Conv2D)            (None, 2, 2, 64)          102464    \n",
      "_________________________________________________________________\n",
      "max_pooling2d_5 (MaxPooling2 (None, 1, 1, 64)          0         \n",
      "_________________________________________________________________\n",
      "dropout_6 (Dropout)          (None, 1, 1, 64)          0         \n",
      "_________________________________________________________________\n",
      "flatten_2 (Flatten)          (None, 64)                0         \n",
      "_________________________________________________________________\n",
      "dense_3 (Dense)              (None, 256)               16640     \n",
      "_________________________________________________________________\n",
      "batch_normalization_1 (Batch (None, 256)               1024      \n",
      "_________________________________________________________________\n",
      "dropout_7 (Dropout)          (None, 256)               0         \n",
      "_________________________________________________________________\n",
      "dense_4 (Dense)              (None, 10)                2570      \n",
      "=================================================================\n",
      "Total params: 190,218\n",
      "Trainable params: 189,706\n",
      "Non-trainable params: 512\n",
      "_________________________________________________________________\n",
      "None\n",
      "Train on 60000 samples, validate on 10000 samples\n",
      "Epoch 1/12\n",
      "60000/60000 [==============================] - 139s 2ms/step - loss: 0.3890 - acc: 0.8747 - val_loss: 0.0612 - val_acc: 0.9791\n",
      "Epoch 2/12\n",
      "60000/60000 [==============================] - 138s 2ms/step - loss: 0.1042 - acc: 0.9715 - val_loss: 0.0365 - val_acc: 0.9898\n",
      "Epoch 3/12\n",
      "60000/60000 [==============================] - 138s 2ms/step - loss: 0.0751 - acc: 0.9789 - val_loss: 0.0304 - val_acc: 0.9907\n",
      "Epoch 4/12\n",
      "60000/60000 [==============================] - 138s 2ms/step - loss: 0.0660 - acc: 0.9816 - val_loss: 0.0397 - val_acc: 0.9885\n",
      "Epoch 5/12\n",
      "60000/60000 [==============================] - 138s 2ms/step - loss: 0.0517 - acc: 0.9859 - val_loss: 0.0296 - val_acc: 0.9914\n",
      "Epoch 6/12\n",
      "60000/60000 [==============================] - 139s 2ms/step - loss: 0.0461 - acc: 0.9875 - val_loss: 0.0269 - val_acc: 0.9922\n",
      "Epoch 7/12\n",
      "60000/60000 [==============================] - 139s 2ms/step - loss: 0.0427 - acc: 0.9881 - val_loss: 0.0270 - val_acc: 0.9923\n",
      "Epoch 8/12\n",
      "60000/60000 [==============================] - 139s 2ms/step - loss: 0.0381 - acc: 0.9893 - val_loss: 0.0191 - val_acc: 0.9942\n",
      "Epoch 9/12\n",
      "60000/60000 [==============================] - 138s 2ms/step - loss: 0.0372 - acc: 0.9897 - val_loss: 0.0208 - val_acc: 0.9932\n",
      "Epoch 10/12\n",
      "60000/60000 [==============================] - 139s 2ms/step - loss: 0.0342 - acc: 0.9905 - val_loss: 0.0235 - val_acc: 0.9921\n",
      "Epoch 11/12\n",
      "60000/60000 [==============================] - 139s 2ms/step - loss: 0.0329 - acc: 0.9908 - val_loss: 0.0218 - val_acc: 0.9926\n",
      "Epoch 12/12\n",
      "60000/60000 [==============================] - 139s 2ms/step - loss: 0.0314 - acc: 0.9913 - val_loss: 0.0180 - val_acc: 0.9943\n"
     ]
    }
   ],
   "source": [
    "# Initialising the model\n",
    "model_5 = Sequential()\n",
    "\n",
    "# Adding first conv layer\n",
    "model_5.add(Conv2D(8, kernel_size=(5, 5),padding='same',activation='relu',input_shape=input_shape))\n",
    "\n",
    "# Adding second conv layer\n",
    "model_5.add(Conv2D(16, (5, 5), activation='relu'))\n",
    "\n",
    "# Adding Maxpooling layer\n",
    "model_5.add(MaxPooling2D(pool_size=(2, 2),padding='same'))\n",
    "\n",
    "# Adding Dropout\n",
    "model_5.add(Dropout(0.25))\n",
    "\n",
    "# Adding third conv layer\n",
    "model_5.add(Conv2D(32, (5, 5),padding='same', activation='relu'))\n",
    "\n",
    "# Adding Maxpooling layer\n",
    "model_5.add(MaxPooling2D(pool_size=(2, 2),padding='same'))\n",
    "\n",
    "# Adding Dropout\n",
    "model_5.add(Dropout(0.25))\n",
    "\n",
    "# Adding fourth conv layer\n",
    "model_5.add(Conv2D(64, (5, 5),padding='same',activation='relu'))\n",
    "\n",
    "# Adding fifth conv layer\n",
    "model_5.add(Conv2D(64, (5, 5), activation='relu'))\n",
    "\n",
    "# Adding Maxpooling layer\n",
    "model_5.add(MaxPooling2D(pool_size=(2, 2),padding='same'))\n",
    "\n",
    "# Adding Dropout\n",
    "model_5.add(Dropout(0.25))\n",
    "\n",
    "# Adding flatten layer\n",
    "model_5.add(Flatten())\n",
    "\n",
    "# Adding first hidden layer\n",
    "model_5.add(Dense(256, activation='relu',kernel_initializer=he_normal(seed=None)))\n",
    "\n",
    "# Adding Batch Normalization\n",
    "model_5.add(BatchNormalization())\n",
    "\n",
    "# Adding Dropout\n",
    "model_5.add(Dropout(0.5))\n",
    "\n",
    "# Adding output layer\n",
    "model_5.add(Dense(num_classes, activation='softmax'))\n",
    "\n",
    "# Printing model Summary\n",
    "print(model_5.summary())\n",
    "\n",
    "# Compiling the model\n",
    "model_5.compile(optimizer='adam', loss='categorical_crossentropy', metrics=['accuracy'])\n",
    "\n",
    "# Fitting the data to the model\n",
    "history_5 = model_5.fit(x_train, y_train,batch_size=batch_size,epochs=epochs,verbose=1,validation_data=(x_test, y_test))"
   ]
  },
  {
   "cell_type": "code",
   "execution_count": 7,
   "metadata": {
    "colab": {
     "base_uri": "https://localhost:8080/",
     "height": 401
    },
    "colab_type": "code",
    "id": "baQUdvs26G9F",
    "outputId": "046a0a94-496f-4187-f51e-c387947bb883"
   },
   "outputs": [
    {
     "name": "stdout",
     "output_type": "stream",
     "text": [
      "Test score: 0.017973748890080788\n",
      "Test accuracy: 0.9943\n"
     ]
    },
    {
     "data": {
      "image/png": "[encoded data removed]",
      "text/plain": [
       "<Figure size 720x360 with 1 Axes>"
      ]
     },
     "metadata": {
      "tags": []
     },
     "output_type": "display_data"
    }
   ],
   "source": [
    "# Evaluating the model\n",
    "score = model_5.evaluate(x_test, y_test, verbose=0) \n",
    "print('Test score:', score[0]) \n",
    "print('Test accuracy:', score[1])\n",
    "\n",
    "# Test and train accuracy of the model\n",
    "model_5_test = score[1]\n",
    "model_5_train = max(history_5.history['acc'])\n",
    "\n",
    "# Plotting Train and Test Loss VS no. of epochs\n",
    "# list of epoch numbers\n",
    "x = list(range(1,epochs+1))\n",
    "\n",
    "# Validation loss\n",
    "vy = history_5.history['val_loss']\n",
    "# Training loss\n",
    "ty = history_5.history['loss']\n",
    "\n",
    "# Calling the function to draw the plot\n",
    "plt_dynamic(x, vy, ty)"
   ]
  },
  {
   "cell_type": "markdown",
   "metadata": {
    "colab_type": "text",
    "id": "OlGuKVkk6JpI"
   },
   "source": [
    "<h2>(3). CNN with 7 Convolutional layers and kernel size - (2X2)</h2>"
   ]
  },
  {
   "cell_type": "code",
   "execution_count": 8,
   "metadata": {
    "colab": {
     "base_uri": "https://localhost:8080/",
     "height": 1357
    },
    "colab_type": "code",
    "id": "UbdOw3mo6QRF",
    "outputId": "036d6191-acf2-471d-d82d-7535069ee6a3"
   },
   "outputs": [
    {
     "name": "stdout",
     "output_type": "stream",
     "text": [
      "_________________________________________________________________\n",
      "Layer (type)                 Output Shape              Param #   \n",
      "=================================================================\n",
      "conv2d_9 (Conv2D)            (None, 28, 28, 32)        160       \n",
      "_________________________________________________________________\n",
      "conv2d_10 (Conv2D)           (None, 27, 27, 32)        4128      \n",
      "_________________________________________________________________\n",
      "max_pooling2d_6 (MaxPooling2 (None, 25, 25, 32)        0         \n",
      "_________________________________________________________________\n",
      "dropout_8 (Dropout)          (None, 25, 25, 32)        0         \n",
      "_________________________________________________________________\n",
      "conv2d_11 (Conv2D)           (None, 24, 24, 64)        8256      \n",
      "_________________________________________________________________\n",
      "max_pooling2d_7 (MaxPooling2 (None, 12, 12, 64)        0         \n",
      "_________________________________________________________________\n",
      "conv2d_12 (Conv2D)           (None, 12, 12, 64)        16448     \n",
      "_________________________________________________________________\n",
      "conv2d_13 (Conv2D)           (None, 11, 11, 128)       32896     \n",
      "_________________________________________________________________\n",
      "max_pooling2d_8 (MaxPooling2 (None, 4, 4, 128)         0         \n",
      "_________________________________________________________________\n",
      "dropout_9 (Dropout)          (None, 4, 4, 128)         0         \n",
      "_________________________________________________________________\n",
      "conv2d_14 (Conv2D)           (None, 4, 4, 128)         65664     \n",
      "_________________________________________________________________\n",
      "conv2d_15 (Conv2D)           (None, 3, 3, 256)         131328    \n",
      "_________________________________________________________________\n",
      "max_pooling2d_9 (MaxPooling2 (None, 2, 2, 256)         0         \n",
      "_________________________________________________________________\n",
      "dropout_10 (Dropout)         (None, 2, 2, 256)         0         \n",
      "_________________________________________________________________\n",
      "flatten_3 (Flatten)          (None, 1024)              0         \n",
      "_________________________________________________________________\n",
      "dense_5 (Dense)              (None, 256)               262400    \n",
      "_________________________________________________________________\n",
      "batch_normalization_2 (Batch (None, 256)               1024      \n",
      "_________________________________________________________________\n",
      "dropout_11 (Dropout)         (None, 256)               0         \n",
      "_________________________________________________________________\n",
      "dense_6 (Dense)              (None, 128)               32896     \n",
      "_________________________________________________________________\n",
      "dropout_12 (Dropout)         (None, 128)               0         \n",
      "_________________________________________________________________\n",
      "dense_7 (Dense)              (None, 10)                1290      \n",
      "=================================================================\n",
      "Total params: 556,490\n",
      "Trainable params: 555,978\n",
      "Non-trainable params: 512\n",
      "_________________________________________________________________\n",
      "None\n",
      "Train on 60000 samples, validate on 10000 samples\n",
      "Epoch 1/12\n",
      "60000/60000 [==============================] - 301s 5ms/step - loss: 0.4156 - acc: 0.8619 - val_loss: 0.0537 - val_acc: 0.9828\n",
      "Epoch 2/12\n",
      "60000/60000 [==============================] - 298s 5ms/step - loss: 0.0956 - acc: 0.9720 - val_loss: 0.0726 - val_acc: 0.9771\n",
      "Epoch 3/12\n",
      "60000/60000 [==============================] - 298s 5ms/step - loss: 0.0707 - acc: 0.9799 - val_loss: 0.0358 - val_acc: 0.9890\n",
      "Epoch 4/12\n",
      "60000/60000 [==============================] - 299s 5ms/step - loss: 0.0581 - acc: 0.9824 - val_loss: 0.0293 - val_acc: 0.9911\n",
      "Epoch 5/12\n",
      "60000/60000 [==============================] - 299s 5ms/step - loss: 0.0495 - acc: 0.9851 - val_loss: 0.0340 - val_acc: 0.9892\n",
      "Epoch 6/12\n",
      "60000/60000 [==============================] - 297s 5ms/step - loss: 0.0446 - acc: 0.9871 - val_loss: 0.0253 - val_acc: 0.9928\n",
      "Epoch 7/12\n",
      "60000/60000 [==============================] - 296s 5ms/step - loss: 0.0388 - acc: 0.9887 - val_loss: 0.0324 - val_acc: 0.9903\n",
      "Epoch 8/12\n",
      "60000/60000 [==============================] - 297s 5ms/step - loss: 0.0379 - acc: 0.9889 - val_loss: 0.0443 - val_acc: 0.9867\n",
      "Epoch 9/12\n",
      "60000/60000 [==============================] - 298s 5ms/step - loss: 0.0345 - acc: 0.9899 - val_loss: 0.0221 - val_acc: 0.9933\n",
      "Epoch 10/12\n",
      "60000/60000 [==============================] - 297s 5ms/step - loss: 0.0335 - acc: 0.9898 - val_loss: 0.0268 - val_acc: 0.9924\n",
      "Epoch 11/12\n",
      "60000/60000 [==============================] - 297s 5ms/step - loss: 0.0311 - acc: 0.9913 - val_loss: 0.0216 - val_acc: 0.9940\n",
      "Epoch 12/12\n",
      "60000/60000 [==============================] - 298s 5ms/step - loss: 0.0309 - acc: 0.9913 - val_loss: 0.0256 - val_acc: 0.9920\n"
     ]
    }
   ],
   "source": [
    "# Initialising the model\n",
    "model_7 = Sequential()\n",
    "\n",
    "# Adding first conv layer\n",
    "model_7.add(Conv2D(32, kernel_size=(2, 2),padding='same',activation='relu',input_shape=input_shape))\n",
    "\n",
    "# Adding second conv layer\n",
    "model_7.add(Conv2D(32, (2, 2), activation='relu'))\n",
    "\n",
    "# Adding Maxpooling layer\n",
    "model_7.add(MaxPooling2D(pool_size=(3, 3), strides=(1,1)))\n",
    "\n",
    "# Adding Dropout\n",
    "model_7.add(Dropout(0.3))\n",
    "\n",
    "# Adding third conv layer\n",
    "model_7.add(Conv2D(64, (2, 2), activation='relu'))\n",
    "\n",
    "# Adding Maxpooling layer\n",
    "model_7.add(MaxPooling2D(pool_size=(2, 2),padding='same'))\n",
    "\n",
    "\n",
    "# Adding fourth conv layer\n",
    "model_7.add(Conv2D(64, (2, 2),padding='same',activation='relu'))\n",
    "\n",
    "# Adding fifth conv layer\n",
    "model_7.add(Conv2D(128, (2, 2), activation='relu'))\n",
    "\n",
    "# Adding Maxpooling layer\n",
    "model_7.add(MaxPooling2D(pool_size=(3, 3),padding='same'))\n",
    "\n",
    "# Adding Dropout\n",
    "model_7.add(Dropout(0.25))\n",
    "\n",
    "# Adding sixth conv layer\n",
    "model_7.add(Conv2D(128, (2, 2),padding='same',activation='relu'))\n",
    "\n",
    "# Adding seventh conv layer\n",
    "model_7.add(Conv2D(256, (2, 2), activation='relu'))\n",
    "\n",
    "# Adding Maxpooling layer\n",
    "model_7.add(MaxPooling2D(pool_size=(2, 2), strides=(1,1)))\n",
    "\n",
    "# Adding Dropout\n",
    "model_7.add(Dropout(0.25))\n",
    "\n",
    "# Adding flatten layer\n",
    "model_7.add(Flatten())\n",
    "\n",
    "# Adding first hidden layer\n",
    "model_7.add(Dense(256, activation='relu',kernel_initializer=he_normal(seed=None)))\n",
    "\n",
    "# Adding Batch Normalization\n",
    "model_7.add(BatchNormalization())\n",
    "\n",
    "# Adding Dropout\n",
    "model_7.add(Dropout(0.5))\n",
    "\n",
    "# Adding second hidden layer\n",
    "model_7.add(Dense(128, activation='relu',kernel_initializer=he_normal(seed=None)))\n",
    "\n",
    "# Adding Dropout\n",
    "model_7.add(Dropout(0.25))\n",
    "\n",
    "# Adding output layer\n",
    "model_7.add(Dense(num_classes, activation='softmax'))\n",
    "\n",
    "# Printing model Summary\n",
    "print(model_7.summary())\n",
    "\n",
    "# Compiling the model\n",
    "model_7.compile(optimizer='adam', loss='categorical_crossentropy', metrics=['accuracy'])\n",
    "\n",
    "# Fitting the data to the model\n",
    "history_7 = model_7.fit(x_train, y_train,batch_size=batch_size,epochs=epochs,verbose=1,validation_data=(x_test, y_test))"
   ]
  },
  {
   "cell_type": "code",
   "execution_count": 9,
   "metadata": {
    "colab": {
     "base_uri": "https://localhost:8080/",
     "height": 401
    },
    "colab_type": "code",
    "id": "AaMHqtzA6UdA",
    "outputId": "76131951-dc2f-49e0-9a6b-ad2ca46b0a8e"
   },
   "outputs": [
    {
     "name": "stdout",
     "output_type": "stream",
     "text": [
      "Test score: 0.025569408747175476\n",
      "Test accuracy: 0.992\n"
     ]
    },
    {
     "data": {
      "image/png": "[encoded data removed]",
      "text/plain": [
       "<Figure size 720x360 with 1 Axes>"
      ]
     },
     "metadata": {
      "tags": []
     },
     "output_type": "display_data"
    }
   ],
   "source": [
    "# Evaluating the model\n",
    "score = model_7.evaluate(x_test, y_test, verbose=0) \n",
    "print('Test score:', score[0]) \n",
    "print('Test accuracy:', score[1])\n",
    "\n",
    "# Test and train accuracy of the model\n",
    "model_7_test = score[1]\n",
    "model_7_train = max(history_7.history['acc'])\n",
    "\n",
    "# Plotting Train and Test Loss VS no. of epochs\n",
    "# list of epoch numbers\n",
    "x = list(range(1,epochs+1))\n",
    "\n",
    "# Validation loss\n",
    "vy = history_7.history['val_loss']\n",
    "# Training loss\n",
    "ty = history_7.history['loss']\n",
    "\n",
    "# Calling the function to draw the plot\n",
    "plt_dynamic(x, vy, ty)"
   ]
  },
  {
   "cell_type": "markdown",
   "metadata": {
    "colab_type": "text",
    "id": "650lUXOJ6kLM"
   },
   "source": [
    "<h2> [4] Conclusions</h2>"
   ]
  },
  {
   "cell_type": "markdown",
   "metadata": {
    "colab_type": "text",
    "id": "8WET9NC57fSD"
   },
   "source": [
    "<h2>(a) Observation table: (Different models with their train and test accuracies):</h2>"
   ]
  },
  {
   "cell_type": "code",
   "execution_count": 10,
   "metadata": {
    "colab": {
     "base_uri": "https://localhost:8080/",
     "height": 160
    },
    "colab_type": "code",
    "id": "6XJsfLxh7f4B",
    "outputId": "6b830256-f461-408b-d6ef-d863c65e8a55"
   },
   "outputs": [
    {
     "name": "stdout",
     "output_type": "stream",
     "text": [
      "Requirement already satisfied: prettytable in /usr/local/lib/python3.6/dist-packages (0.7.2)\n",
      "+-------+---------------------------------------------+--------------------+---------------+\n",
      "| S.NO. |                    MODEL                    | Training Accuracy  | Test Accuracy |\n",
      "+-------+---------------------------------------------+--------------------+---------------+\n",
      "|   1   | CNN(3-Conv layers) With Kernel-size = (3,3) | 0.9944166666666666 |     0.9938    |\n",
      "|   2   | CNN(5-Conv layers) With Kernel-size = (5,5) | 0.9912666666348775 |     0.9943    |\n",
      "|   3   | CNN(7-Conv layers) With Kernel-size = (2,2) | 0.9912666666666666 |     0.992     |\n",
      "+-------+---------------------------------------------+--------------------+---------------+\n"
     ]
    }
   ],
   "source": [
    "# Installing the library prettytable\n",
    "!pip install prettytable\n",
    "\n",
    "# Creating table using PrettyTable library\n",
    "from prettytable import PrettyTable\n",
    "\n",
    "# Names of models\n",
    "names = ['CNN(3-Conv layers) With Kernel-size = (3,3)','CNN(5-Conv layers) With Kernel-size = (5,5)',\\\n",
    "         'CNN(7-Conv layers) With Kernel-size = (2,2)']\n",
    "\n",
    "# Training accuracies\n",
    "train_acc = [model_3_train,model_5_train,model_7_train]\n",
    "\n",
    "# Test accuracies\n",
    "test_acc = [model_3_test,model_5_test,model_7_test]\n",
    "\n",
    "numbering = [1,2,3]\n",
    "\n",
    "# Initializing prettytable\n",
    "ptable = PrettyTable()\n",
    "\n",
    "# Adding columns\n",
    "ptable.add_column(\"S.NO.\",numbering)\n",
    "ptable.add_column(\"MODEL\",names)\n",
    "ptable.add_column(\"Training Accuracy\",train_acc)\n",
    "ptable.add_column(\"Test Accuracy\",test_acc)\n",
    "\n",
    "# Printing the Table\n",
    "print(ptable)"
   ]
  },
  {
   "cell_type": "markdown",
   "metadata": {
    "colab_type": "text",
    "id": "8B1hm-Cul27X"
   },
   "source": [
    "\n",
    "<h2>(b). Procedure Followed :</h2>\n",
    "\n",
    "Step 1 : Loading the MNIST dataset\n",
    "\n",
    "Step 2 :  Splitting the dataset into training set and test set\n",
    " \n",
    " Step 3 : Normalize the training and test data\n",
    " \n",
    " Step 4 : Convert class variable into categorical data vector\n",
    " \n",
    " Step 5 :  Implement Softmax classifier with 3, 5 and 7 conv layers .\n",
    " \n",
    " Step 6 :  Useing  kernel -size (3X3) , (5X5) and (2,2) .\n",
    " \n",
    " Step 7 :  Drawing Error Plot: Categorical Crossentropy Loss VS No.of Epochs plot ."
   ]
  }
 ],
 "metadata": {
  "colab": {
   "collapsed_sections": [],
   "name": "CNN_MNIST.ipynb",
   "provenance": [],
   "version": "0.3.2"
  },
  "kernelspec": {
   "display_name": "Python 3",
   "language": "python",
   "name": "python3"
  },
  "language_info": {
   "codemirror_mode": {
    "name": "ipython",
    "version": 3
   },
   "file_extension": ".py",
   "mimetype": "text/x-python",
   "name": "python",
   "nbconvert_exporter": "python",
   "pygments_lexer": "ipython3",
   "version": "3.6.4"
  }
 },
 "nbformat": 4,
 "nbformat_minor": 1
}
